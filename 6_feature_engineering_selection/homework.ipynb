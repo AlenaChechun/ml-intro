{
 "cells": [
  {
   "cell_type": "code",
   "execution_count": 1,
   "metadata": {},
   "outputs": [],
   "source": [
    "import numpy as np\n",
    "import pandas as pd\n",
    "import seaborn as sns\n",
    "import matplotlib.pyplot as plt\n",
    "\n",
    "from sklearn.impute import SimpleImputer\n",
    "from sklearn.preprocessing import StandardScaler, MinMaxScaler, OrdinalEncoder, OneHotEncoder\n",
    "from sklearn.decomposition import PCA\n",
    "\n",
    "from sklearn.feature_selection import VarianceThreshold, SelectFromModel, RFECV, SequentialFeatureSelector\n",
    "\n",
    "from sklearn.ensemble import RandomForestClassifier, RandomForestRegressor\n",
    "from sklearn.linear_model import LogisticRegression\n",
    "\n",
    "from sklearn.model_selection import KFold, cross_val_score, train_test_split\n",
    "from sklearn.pipeline import Pipeline, make_pipeline\n",
    "from sklearn.metrics import accuracy_score\n",
    "\n",
    "from sklearn.datasets import make_classification, load_wine, load_breast_cancer, load_diabetes, load_digits"
   ]
  },
  {
   "cell_type": "code",
   "execution_count": 2,
   "metadata": {},
   "outputs": [],
   "source": [
    "plt.style.use('seaborn-darkgrid')"
   ]
  },
  {
   "cell_type": "code",
   "execution_count": 3,
   "metadata": {},
   "outputs": [],
   "source": [
    "def plot_scatter(x, y, auto_scaled=True, title=None, clusters=None):\n",
    "    plt.figure(figsize=(4, 4))\n",
    "    plt.scatter(x, y, c=clusters, cmap='bwr')\n",
    "    \n",
    "    if not auto_scaled:\n",
    "        plt.axis('square')\n",
    "    \n",
    "    plt.grid(True)\n",
    "    plt.title(title)\n",
    "    \n",
    "    plt.show()\n",
    "    \n",
    "def return_X_y(data, target_column):\n",
    "    return data.drop(target_column, axis=1), data[target_column]"
   ]
  },
  {
   "cell_type": "code",
   "execution_count": 4,
   "metadata": {},
   "outputs": [],
   "source": [
    "wine_sklearn = load_wine(as_frame=True)\n",
    "wine_data, wine_labels = wine_sklearn['data'], wine_sklearn['target']"
   ]
  },
  {
   "cell_type": "markdown",
   "metadata": {},
   "source": [
    "# Homework"
   ]
  },
  {
   "cell_type": "markdown",
   "metadata": {},
   "source": [
    "## Exercise  1 - Scaling (2 points)"
   ]
  },
  {
   "cell_type": "markdown",
   "metadata": {},
   "source": [
    "Perform standardization for wine dataset (`wine_data`) using only basic python, numpy and pandas (without using `StandardScaler` and sklearn at all). Implementation of function (or class) that can get dataset as input and return standardized dataset as output is preferrable, but not necessary.\n",
    "\n",
    "Compare you results (output) with `StandardScaler`.\n",
    "\n",
    "**NOTE:**\n",
    "\n",
    "- 1 point for functional version, 2 points for implementing scaling as sklearn pipeline compartible class. \n",
    "- Maximum for the exercise is 2 points.\n"
   ]
  },
  {
   "cell_type": "markdown",
   "metadata": {},
   "source": [
    "### Simple version (1 point)"
   ]
  },
  {
   "cell_type": "code",
   "execution_count": 5,
   "metadata": {},
   "outputs": [],
   "source": [
    "# 1 point\n",
    "def scale(X):\n",
    "    # calculation by columns\n",
    "    mean_row = np.array(np.mean(X, axis='rows'))\n",
    "    mean_arr = np.tile(mean_row, (X.shape[0], 1))\n",
    "    std_row = np.array(np.std(X, axis='rows'))\n",
    "    return np.divide(X - mean_arr, std_row)"
   ]
  },
  {
   "cell_type": "code",
   "execution_count": 6,
   "metadata": {},
   "outputs": [],
   "source": [
    "assert np.allclose(np.array(scale(wine_data)), StandardScaler().fit_transform(wine_data))"
   ]
  },
  {
   "cell_type": "markdown",
   "metadata": {},
   "source": [
    "### Pipeline Version (2 points)"
   ]
  },
  {
   "cell_type": "code",
   "execution_count": 7,
   "metadata": {},
   "outputs": [],
   "source": [
    "# 2 points\n",
    "from sklearn.base import BaseEstimator, TransformerMixin\n",
    "class CustomScaler(BaseEstimator, TransformerMixin):\n",
    "    def __init__(self, copy=True, with_mean=True, with_std=True):\n",
    "        # your code here\n",
    "        self.copy_ = copy\n",
    "        self.with_mean_ = with_mean\n",
    "        self.with_std_ = with_std\n",
    "        self.mean_arr_ = None\n",
    "        self.std_row_ = None\n",
    "        \n",
    "    def preprocess(self, X):\n",
    "        if self.with_mean_:\n",
    "            mean_row = np.array(np.mean(X, axis='rows'))          \n",
    "        else:\n",
    "            mean_row = np.zeros(X.shape[1])\n",
    "        self.mean_arr_ = np.tile(mean_row, (X.shape[0], 1))\n",
    "\n",
    "        if self.with_std_:\n",
    "            self.std_row_ = np.array(np.std(X, axis='rows'))\n",
    "        else:\n",
    "            self.std_row_ = np.ones(X.shape[1])        \n",
    "    \n",
    "    def fit(self, X, y=None):\n",
    "        # your code here\n",
    "        if self.copy_:\n",
    "            self.preprocess(X)\n",
    "        return self\n",
    "\n",
    "    def transform(self, X, y=None, copy=None):\n",
    "        # your code here\n",
    "        if not self.copy_:\n",
    "            self.preprocess(X)\n",
    "        return np.divide(X - self.mean_arr_, self.std_row_)"
   ]
  },
  {
   "cell_type": "code",
   "execution_count": 8,
   "metadata": {},
   "outputs": [],
   "source": [
    "assert np.allclose(CustomScaler().fit_transform(wine_data), StandardScaler().fit_transform(wine_data))"
   ]
  },
  {
   "cell_type": "markdown",
   "metadata": {},
   "source": [
    "## Exercise  2 - Visualization (3 points)"
   ]
  },
  {
   "cell_type": "markdown",
   "metadata": {},
   "source": [
    "As noted earlier, standardization/normalization of data can be crucial for some distance-based ML methods.\n",
    "\n",
    "Let’s generate some toy example of unnormalized data and visualize the importance of this process once more:"
   ]
  },
  {
   "cell_type": "code",
   "execution_count": 9,
   "metadata": {},
   "outputs": [
    {
     "data": {
      "text/plain": [
       "array([[  0.14999999,   0.40707214],\n",
       "       [ 10.22963464,   0.2171779 ],\n",
       "       [  0.90234519,  -0.40724602],\n",
       "       ...,\n",
       "       [ 13.28338497,   2.58355781],\n",
       "       [ -6.21318427,   6.16959047],\n",
       "       [-11.67154743,   3.37601023]])"
      ]
     },
     "execution_count": 9,
     "metadata": {},
     "output_type": "execute_result"
    }
   ],
   "source": [
    "feature_0 = np.random.randn(1000) * 10   \n",
    "feature_1 = np.concatenate([np.random.randn(500), np.random.randn(500) + 5])\n",
    "data = np.column_stack([feature_0, feature_1])\n",
    "data "
   ]
  },
  {
   "cell_type": "code",
   "execution_count": 10,
   "metadata": {},
   "outputs": [
    {
     "data": {
      "image/png": "[encoded data removed]",
      "text/plain": [
       "<Figure size 288x288 with 1 Axes>"
      ]
     },
     "metadata": {},
     "output_type": "display_data"
    }
   ],
   "source": [
    "plot_scatter(data[:, 0], data[:, 1], auto_scaled=True, title='Data (different axes units!)')"
   ]
  },
  {
   "cell_type": "markdown",
   "metadata": {},
   "source": [
    "**NOTE:** on the plot above axes are scaled differently and we can clearly see two potential *classes/clusters*. In fact `matplotlib` performed `autoscaling` (which is basically can be considered as `MinMaxScaling` of original data) just for better visualization purposes.\n",
    "\n",
    "Let's turn this feature off and visualize the original data on the plot with equally scaled axes:"
   ]
  },
  {
   "cell_type": "code",
   "execution_count": 11,
   "metadata": {},
   "outputs": [
    {
     "data": {
      "image/png": "[encoded data removed]",
      "text/plain": [
       "<Figure size 288x288 with 1 Axes>"
      ]
     },
     "metadata": {},
     "output_type": "display_data"
    }
   ],
   "source": [
    "plot_scatter(data[:, 0], data[:, 1], auto_scaled=False , title='Data (equal axes units!)')"
   ]
  },
  {
   "cell_type": "markdown",
   "metadata": {},
   "source": [
    "This picture is clearly less interpretable, but much closer to \"how distance-based algorithm see the original data\": separability of data is hardly noticable only because the variation (std) of x-feature is much bigger in absolute numbers."
   ]
  },
  {
   "cell_type": "markdown",
   "metadata": {},
   "source": [
    "Perform `StandardScaling` and `MinMaxScaling` of original data; visualize results for each case (**use `plot_scatter` with `auto_scaled=False`**):"
   ]
  },
  {
   "cell_type": "markdown",
   "metadata": {},
   "source": [
    "### MinMaxScaling (0.5 point)"
   ]
  },
  {
   "cell_type": "code",
   "execution_count": 12,
   "metadata": {},
   "outputs": [
    {
     "data": {
      "image/png": "[encoded data removed]",
      "text/plain": [
       "<Figure size 288x288 with 1 Axes>"
      ]
     },
     "metadata": {},
     "output_type": "display_data"
    }
   ],
   "source": [
    "data_std = (data - data.min(axis=0)) / (data.max(axis=0) - data.min(axis=0))\n",
    "plot_scatter(data_std[:,0], data_std[:,1], auto_scaled=False , title='Data (Custom MinMaxScaling)')"
   ]
  },
  {
   "cell_type": "code",
   "execution_count": 13,
   "metadata": {},
   "outputs": [
    {
     "data": {
      "image/png": "[encoded data removed]",
      "text/plain": [
       "<Figure size 288x288 with 1 Axes>"
      ]
     },
     "metadata": {},
     "output_type": "display_data"
    }
   ],
   "source": [
    "scaler = MinMaxScaler()\n",
    "data_mmc = scaler.fit_transform(data)\n",
    "plot_scatter(data_mmc[:,0], data_mmc[:,1], auto_scaled=False , title='Data (MinMaxScaling!)')"
   ]
  },
  {
   "cell_type": "markdown",
   "metadata": {},
   "source": [
    "### StandardScaler (0.5 point)"
   ]
  },
  {
   "cell_type": "code",
   "execution_count": 14,
   "metadata": {},
   "outputs": [],
   "source": [
    "data_sc = CustomScaler().fit_transform(pd.DataFrame(data))"
   ]
  },
  {
   "cell_type": "code",
   "execution_count": 15,
   "metadata": {},
   "outputs": [
    {
     "data": {
      "image/png": "[encoded data removed]",
      "text/plain": [
       "<Figure size 288x288 with 1 Axes>"
      ]
     },
     "metadata": {},
     "output_type": "display_data"
    }
   ],
   "source": [
    "## your code\n",
    "plot_scatter(data_sc[0], data_sc[1], auto_scaled=False , title='Data (Custom Standart Scaler)')"
   ]
  },
  {
   "cell_type": "markdown",
   "metadata": {},
   "source": [
    "### (Bonus) K-means (2 points)"
   ]
  },
  {
   "cell_type": "markdown",
   "metadata": {},
   "source": [
    "Illustrate the impact of scaling on basic distance-based clustering algorithm [K-means](https://towardsdatascience.com/understanding-k-means-clustering-in-machine-learning-6a6e67336aa1) using `data` generated above.\n",
    "\n",
    "**NOTE:** basically, you don't need understanding K-means algorithm here, you just need to:\n",
    "\n",
    "1) run algorithm (with k=2, k - number of clusters/classes) on unscaled data    \n",
    "2) run algorithm (with k=2) on scaled data    \n",
    "3) plot results: highlight different clusters using different colors.\n",
    "\n",
    "You can use this [question](https://stats.stackexchange.com/questions/89809/is-it-important-to-scale-data-before-clustering/89813) as a hint, but I recommend you to plot results using `plot_scatter` with `equal_scaled=True`: it might help you to intuitively understand the reasons of such scaling impact.\n"
   ]
  },
  {
   "cell_type": "code",
   "execution_count": 16,
   "metadata": {},
   "outputs": [],
   "source": [
    "## your code\n",
    "from sklearn.cluster import KMeans\n",
    "def kmenas_clusters(X, f1_name, f2_name, n_clusters = 2):\n",
    "    Kmeans = KMeans(n_clusters=n_clusters).fit(X)\n",
    "    data_with_clustes = pd.concat([pd.DataFrame(X, columns=[f1_name, f2_name]), pd.DataFrame(Kmeans.labels_, columns=['cluster'])], axis=1)\n",
    "    return data_with_clustes[data_with_clustes.cluster == 0], data_with_clustes[data_with_clustes.cluster == 1]\n"
   ]
  },
  {
   "cell_type": "code",
   "execution_count": 17,
   "metadata": {},
   "outputs": [
    {
     "data": {
      "image/png": "[encoded data removed]",
      "text/plain": [
       "<Figure size 432x288 with 1 Axes>"
      ]
     },
     "metadata": {},
     "output_type": "display_data"
    }
   ],
   "source": [
    "f1_name='feature1'\n",
    "f2_name='feature2'\n",
    "data_0, data_1 = kmenas_clusters(data, f1_name, f2_name)\n",
    "plt.scatter(x=data_0[f1_name], y=data_0[f2_name], c='coral')\n",
    "plt.scatter(x=data_1[f1_name], y=data_1[f2_name], c='lightblue')\n",
    "plt.title('KMeans algorithm using Raw Data')\n",
    "plt.show()\n"
   ]
  },
  {
   "cell_type": "code",
   "execution_count": 18,
   "metadata": {},
   "outputs": [
    {
     "data": {
      "image/png": "[encoded data removed]",
      "text/plain": [
       "<Figure size 432x288 with 1 Axes>"
      ]
     },
     "metadata": {},
     "output_type": "display_data"
    }
   ],
   "source": [
    "data_0, data_1 = kmenas_clusters(StandardScaler().fit_transform(pd.DataFrame(data)), f1_name, f2_name)\n",
    "plt.scatter(x=data_0[f1_name], y=data_0[f2_name], c='coral')\n",
    "plt.scatter(x=data_1[f1_name], y=data_1[f2_name], c='lightblue')\n",
    "plt.title('KMeans algorithm using Scaled Data')\n",
    "plt.show()\n"
   ]
  },
  {
   "cell_type": "markdown",
   "metadata": {},
   "source": [
    "## Exercise  3 - Preprocessing Pipeline (2 points)"
   ]
  },
  {
   "cell_type": "code",
   "execution_count": 19,
   "metadata": {},
   "outputs": [],
   "source": [
    "wine_train, wine_val, wine_labels_train, wine_labels_val = train_test_split(wine_data, wine_labels, \n",
    "                                                                            test_size=0.3, random_state=42)"
   ]
  },
  {
   "cell_type": "markdown",
   "metadata": {},
   "source": [
    "Train model (for example, `LogisticRegression(solver='liblinear', penalty='l1')` on raw `wine_train` data; then train same model after data scaling; then add feature selection (and train model again on scaled data). For each experiment all required preprocessing steps (if any) should be wrapped into sklearn pipeline.\n",
    "\n",
    "Measure `accuracy` of all 3 approaches on `wine_val` dataset. Describe and explain results."
   ]
  },
  {
   "cell_type": "code",
   "execution_count": 20,
   "metadata": {},
   "outputs": [],
   "source": [
    "## your code\n",
    "def make_model(with_scaling=False, solver='liblinear', penalty='l1'):\n",
    "    \n",
    "    if not with_scaling:\n",
    "        return Pipeline([('cls', LogisticRegression(solver=solver, penalty=penalty))])\n",
    "    \n",
    "    return Pipeline([\n",
    "        ('sca', StandardScaler()),\n",
    "        ('cls', LogisticRegression(solver=solver, penalty=penalty)),\n",
    "    ])"
   ]
  },
  {
   "cell_type": "markdown",
   "metadata": {},
   "source": [
    "the raw wine_train data + no scaling"
   ]
  },
  {
   "cell_type": "code",
   "execution_count": 21,
   "metadata": {},
   "outputs": [
    {
     "data": {
      "text/plain": [
       "0.9814814814814815"
      ]
     },
     "execution_count": 21,
     "metadata": {},
     "output_type": "execute_result"
    }
   ],
   "source": [
    "model_no_scale = make_model()\n",
    "model_no_scale.fit(wine_train, wine_labels_train)\n",
    "accuracy_no_scale = accuracy_score(y_pred=model_no_scale.predict(wine_val), y_true=wine_labels_val)\n",
    "accuracy_no_scale"
   ]
  },
  {
   "cell_type": "markdown",
   "metadata": {},
   "source": [
    "the raw wine_train data + scaling"
   ]
  },
  {
   "cell_type": "code",
   "execution_count": 22,
   "metadata": {},
   "outputs": [
    {
     "data": {
      "text/plain": [
       "0.9814814814814815"
      ]
     },
     "execution_count": 22,
     "metadata": {},
     "output_type": "execute_result"
    }
   ],
   "source": [
    "model_scale = make_model(with_scaling=True)\n",
    "model_scale.fit(wine_train, wine_labels_train)\n",
    "accuracy_scale = accuracy_score(y_pred=model_scale.predict(wine_val), y_true=wine_labels_val)\n",
    "accuracy_scale"
   ]
  },
  {
   "cell_type": "markdown",
   "metadata": {},
   "source": [
    "feature selection (and train model again on scaled data)"
   ]
  },
  {
   "cell_type": "markdown",
   "metadata": {},
   "source": [
    "* Statistical approaches"
   ]
  },
  {
   "cell_type": "code",
   "execution_count": 23,
   "metadata": {},
   "outputs": [],
   "source": [
    "def make_model_variance(variance = 0.8, solver='liblinear', penalty='l1'):\n",
    "    \n",
    "    return Pipeline([\n",
    "        ('sca', StandardScaler()),\n",
    "        ('var', VarianceThreshold(variance)),\n",
    "        ('cls', LogisticRegression(solver=solver, penalty=penalty)),\n",
    "    ])"
   ]
  },
  {
   "cell_type": "code",
   "execution_count": 24,
   "metadata": {},
   "outputs": [
    {
     "data": {
      "text/plain": [
       "(124, 13)"
      ]
     },
     "execution_count": 24,
     "metadata": {},
     "output_type": "execute_result"
    }
   ],
   "source": [
    "wine_train.shape"
   ]
  },
  {
   "cell_type": "code",
   "execution_count": 25,
   "metadata": {},
   "outputs": [
    {
     "data": {
      "text/plain": [
       "(124, 10)"
      ]
     },
     "metadata": {},
     "output_type": "display_data"
    },
    {
     "data": {
      "text/plain": [
       "(124, 7)"
      ]
     },
     "metadata": {},
     "output_type": "display_data"
    },
    {
     "data": {
      "text/plain": [
       "(124, 6)"
      ]
     },
     "metadata": {},
     "output_type": "display_data"
    },
    {
     "data": {
      "text/plain": [
       "(124, 6)"
      ]
     },
     "metadata": {},
     "output_type": "display_data"
    },
    {
     "data": {
      "text/plain": [
       "(124, 6)"
      ]
     },
     "metadata": {},
     "output_type": "display_data"
    }
   ],
   "source": [
    "wine_var_4 = VarianceThreshold(0.3).fit_transform(wine_train).shape\n",
    "wine_var_7 = VarianceThreshold(0.7).fit_transform(wine_train).shape\n",
    "wine_var_8 = VarianceThreshold(0.8).fit_transform(wine_train).shape\n",
    "wine_var_9 = VarianceThreshold(0.9).fit_transform(wine_train).shape\n",
    "wine_var_10 = VarianceThreshold(1).fit_transform(wine_train).shape\n",
    "display(wine_var_4, wine_var_7, wine_var_8, wine_var_9, wine_var_10)"
   ]
  },
  {
   "cell_type": "code",
   "execution_count": 26,
   "metadata": {},
   "outputs": [
    {
     "data": {
      "text/plain": [
       "0.9814814814814815"
      ]
     },
     "execution_count": 26,
     "metadata": {},
     "output_type": "execute_result"
    }
   ],
   "source": [
    "model_variance = make_model_variance(variance = 0.9)\n",
    "model_variance.fit(wine_train, wine_labels_train)\n",
    "accuracy_variance = accuracy_score(y_pred=model_variance.predict(wine_val), y_true=wine_labels_val)\n",
    "accuracy_variance"
   ]
  },
  {
   "cell_type": "markdown",
   "metadata": {},
   "source": [
    "* Selection From Modeling"
   ]
  },
  {
   "cell_type": "code",
   "execution_count": 27,
   "metadata": {},
   "outputs": [],
   "source": [
    "def make_model_from_modeling(random_state=42, solver='liblinear', penalty='l1'):\n",
    "    selection_model = RandomForestClassifier(random_state=42)\n",
    "    \n",
    "    return Pipeline([\n",
    "        ('sca', StandardScaler()),\n",
    "        ('sel', SelectFromModel(selection_model)),\n",
    "        ('cls', LogisticRegression(solver=solver, penalty=penalty)),\n",
    "    ])"
   ]
  },
  {
   "cell_type": "code",
   "execution_count": 28,
   "metadata": {},
   "outputs": [
    {
     "data": {
      "text/plain": [
       "1.0"
      ]
     },
     "execution_count": 28,
     "metadata": {},
     "output_type": "execute_result"
    }
   ],
   "source": [
    "model_model = make_model_from_modeling()\n",
    "model_model.fit(wine_train, wine_labels_train)\n",
    "accuracy_model = accuracy_score(y_pred=model_model.predict(wine_val), y_true=wine_labels_val)\n",
    "accuracy_model"
   ]
  },
  {
   "cell_type": "code",
   "execution_count": 29,
   "metadata": {},
   "outputs": [
    {
     "data": {
      "image/png": "[encoded data removed]",
      "text/plain": [
       "<Figure size 432x288 with 1 Axes>"
      ]
     },
     "metadata": {},
     "output_type": "display_data"
    }
   ],
   "source": [
    "plt.bar([1, 2, 3, 4], [accuracy_no_scale, accuracy_scale, accuracy_variance, accuracy_model])\n",
    "plt.title(\"Accuracy for different approaches to Feature selection.\")\n",
    "plt.show()"
   ]
  },
  {
   "cell_type": "markdown",
   "metadata": {},
   "source": [
    "## Exercise 4 - manual PCA (5 points)\n",
    "The task is to solve PCA as an optimization problem, without explicitly doing eigen value decomposition.\n",
    "In the most general setting PCA is minimization of reconstruction error of a projection of given rank $q$\n",
    "\n",
    "$$\\min_{\\mu, \\lambda_1,\\ldots, \\lambda_n, \\mathbf{V}_q} \\sum_{i=1}^n ||x_i - \\mu - \\mathbf{V}_q \\lambda_i||^2$$\n",
    "\n",
    "With a number of steps that can be found here https://stats.stackexchange.com/a/10260 this task transforms to\n",
    " $$\\max_{u_i} \\sum_{i=1}^q u_i^T \\mathbf{S} u_i$$\n",
    " where $\\mathbf{S}$ is the sample covariance matrix (after standartization) and $u_1, \\ldots, u_q$ are the $q$ are orthonormal columns in $\\mathbf{V}_q$.\n",
    " Let us solve this optimization problem with `scipy.optimize` library.\n",
    " \n",
    " Additional 2 point are given for visualization of the results."
   ]
  },
  {
   "cell_type": "markdown",
   "metadata": {},
   "source": [
    "### PCA (3 points)"
   ]
  },
  {
   "cell_type": "code",
   "execution_count": 30,
   "metadata": {},
   "outputs": [],
   "source": [
    "wine_data, wine_labels = wine_sklearn['data'], wine_sklearn['target']"
   ]
  },
  {
   "cell_type": "code",
   "execution_count": 31,
   "metadata": {},
   "outputs": [
    {
     "data": {
      "text/plain": [
       "(178, 13)"
      ]
     },
     "execution_count": 31,
     "metadata": {},
     "output_type": "execute_result"
    }
   ],
   "source": [
    "wine_data.shape"
   ]
  },
  {
   "cell_type": "markdown",
   "metadata": {},
   "source": [
    "Find a covariance matrix of standartized data and assing it to S."
   ]
  },
  {
   "cell_type": "code",
   "execution_count": 32,
   "metadata": {},
   "outputs": [],
   "source": [
    "## your code\n",
    "X = StandardScaler().fit_transform(wine_data)\n",
    "S = np.cov(X , rowvar = False) ## your code"
   ]
  },
  {
   "cell_type": "markdown",
   "metadata": {},
   "source": [
    "If your code is correct, the following assert should be Ok."
   ]
  },
  {
   "cell_type": "code",
   "execution_count": 33,
   "metadata": {},
   "outputs": [],
   "source": [
    "assert np.allclose(np.linalg.norm(S), 5.787241159764733)"
   ]
  },
  {
   "cell_type": "code",
   "execution_count": 34,
   "metadata": {},
   "outputs": [],
   "source": [
    "from scipy.optimize import minimize\n",
    "\n",
    "def objective(x):\n",
    "    # your code: write objective of the problem (don't forget that scipy does min while we need max)\n",
    "    return -(x.T)@S@x\n",
    "\n",
    "def norm_constraint(x):\n",
    "    # your code: constaraint norm of x to be 1, function should return 0 if constraint holds\n",
    "    return np.linalg.norm(x) - 1\n",
    "\n",
    "con1 = {'type': 'eq', 'fun': norm_constraint}\n",
    "\n",
    "x0 = np.zeros(S.shape[0])# your code: initial vector to start optimization\n",
    "\n",
    "sol = minimize(objective, \n",
    "               x0, \n",
    "               constraints = [con1]\n",
    "              )\n",
    "x0 = sol.x"
   ]
  },
  {
   "cell_type": "code",
   "execution_count": 35,
   "metadata": {},
   "outputs": [
    {
     "data": {
      "text/plain": [
       "array([ 0.14433531, -0.24519363, -0.00205054, -0.23931168,  0.1419914 ,\n",
       "        0.39466365,  0.42293322, -0.29853203,  0.31343064, -0.0886194 ,\n",
       "        0.29670785,  0.37617243,  0.28674882])"
      ]
     },
     "execution_count": 35,
     "metadata": {},
     "output_type": "execute_result"
    }
   ],
   "source": [
    "x0"
   ]
  },
  {
   "cell_type": "code",
   "execution_count": 36,
   "metadata": {},
   "outputs": [],
   "source": [
    "assert np.allclose(x0@S@x0, 4.732436977583595)"
   ]
  },
  {
   "cell_type": "markdown",
   "metadata": {},
   "source": [
    "Hurray! We have first vector! Let's do another one."
   ]
  },
  {
   "cell_type": "code",
   "execution_count": 37,
   "metadata": {},
   "outputs": [],
   "source": [
    "def orthogonality_constraint(x):\n",
    "    # your code: x should be orthogonal to x0, function should return 0 if constraint holds\n",
    "    return x0@x\n",
    "    \n",
    "\n",
    "con2 = {'type': 'eq', 'fun': orthogonality_constraint}\n",
    "\n",
    "x1 = np.zeros(S.shape[0]) # your code: initial vector to start optimization\n",
    "\n",
    "\n",
    "sol = minimize(objective, \n",
    "               x1, \n",
    "               constraints = [con1, con2]#your code\n",
    "              )\n",
    "\n",
    "x1 = sol.x"
   ]
  },
  {
   "cell_type": "code",
   "execution_count": 38,
   "metadata": {},
   "outputs": [
    {
     "data": {
      "text/plain": [
       "(array([ 0.14433531, -0.24519363, -0.00205054, -0.23931168,  0.1419914 ,\n",
       "         0.39466365,  0.42293322, -0.29853203,  0.31343064, -0.0886194 ,\n",
       "         0.29670785,  0.37617243,  0.28674882]),\n",
       " array([ 0.48365332,  0.22493153,  0.31608551, -0.01057988,  0.29962576,\n",
       "         0.065047  , -0.00335859,  0.02878182,  0.03929678,  0.52998504,\n",
       "        -0.27923655, -0.16449437,  0.36490694]))"
      ]
     },
     "execution_count": 38,
     "metadata": {},
     "output_type": "execute_result"
    }
   ],
   "source": [
    "x0, x1"
   ]
  },
  {
   "cell_type": "markdown",
   "metadata": {},
   "source": [
    "If your solution is correct, the following asserts should be Ok."
   ]
  },
  {
   "cell_type": "code",
   "execution_count": 39,
   "metadata": {},
   "outputs": [],
   "source": [
    "assert np.allclose(x0@S@x0, 4.732436977583595)\n",
    "assert np.allclose(x1@S@x1, 2.5110809296451233)"
   ]
  },
  {
   "cell_type": "markdown",
   "metadata": {},
   "source": [
    "The next solution is just for myself investigation"
   ]
  },
  {
   "cell_type": "code",
   "execution_count": 40,
   "metadata": {},
   "outputs": [],
   "source": [
    "v,w = np.linalg.eig(S)"
   ]
  },
  {
   "cell_type": "code",
   "execution_count": 41,
   "metadata": {},
   "outputs": [
    {
     "data": {
      "text/plain": [
       "array([ 0,  1,  2,  3,  4,  5,  6,  8, 10, 12, 11,  9,  7], dtype=int64)"
      ]
     },
     "execution_count": 41,
     "metadata": {},
     "output_type": "execute_result"
    }
   ],
   "source": [
    "sorted_index = np.argsort(v)[::-1]\n",
    "sorted_index "
   ]
  },
  {
   "cell_type": "code",
   "execution_count": 42,
   "metadata": {},
   "outputs": [],
   "source": [
    "v = v[sorted_index]\n",
    "w = w[:,sorted_index]"
   ]
  },
  {
   "cell_type": "code",
   "execution_count": 43,
   "metadata": {},
   "outputs": [
    {
     "data": {
      "text/plain": [
       "array([4.73243698, 2.51108093, 1.45424187, 0.92416587, 0.85804868,\n",
       "       0.64528221, 0.55414147, 0.35046627, 0.29051203, 0.25232001,\n",
       "       0.22706428, 0.16972374, 0.10396199])"
      ]
     },
     "execution_count": 43,
     "metadata": {},
     "output_type": "execute_result"
    }
   ],
   "source": [
    "v"
   ]
  },
  {
   "cell_type": "code",
   "execution_count": 44,
   "metadata": {},
   "outputs": [
    {
     "data": {
      "text/html": [
       "<div>\n",
       "<style scoped>\n",
       "    .dataframe tbody tr th:only-of-type {\n",
       "        vertical-align: middle;\n",
       "    }\n",
       "\n",
       "    .dataframe tbody tr th {\n",
       "        vertical-align: top;\n",
       "    }\n",
       "\n",
       "    .dataframe thead th {\n",
       "        text-align: right;\n",
       "    }\n",
       "</style>\n",
       "<table border=\"1\" class=\"dataframe\">\n",
       "  <thead>\n",
       "    <tr style=\"text-align: right;\">\n",
       "      <th></th>\n",
       "      <th>0</th>\n",
       "      <th>1</th>\n",
       "      <th>2</th>\n",
       "      <th>3</th>\n",
       "      <th>4</th>\n",
       "      <th>5</th>\n",
       "      <th>6</th>\n",
       "      <th>7</th>\n",
       "      <th>8</th>\n",
       "      <th>9</th>\n",
       "      <th>10</th>\n",
       "      <th>11</th>\n",
       "      <th>12</th>\n",
       "    </tr>\n",
       "  </thead>\n",
       "  <tbody>\n",
       "    <tr>\n",
       "      <th>0</th>\n",
       "      <td>-0.144329</td>\n",
       "      <td>-0.483652</td>\n",
       "      <td>0.207383</td>\n",
       "      <td>-0.017856</td>\n",
       "      <td>0.265664</td>\n",
       "      <td>-0.213539</td>\n",
       "      <td>-0.056396</td>\n",
       "      <td>-0.396139</td>\n",
       "      <td>0.508619</td>\n",
       "      <td>0.211605</td>\n",
       "      <td>-0.225917</td>\n",
       "      <td>0.266286</td>\n",
       "      <td>0.014970</td>\n",
       "    </tr>\n",
       "    <tr>\n",
       "      <th>1</th>\n",
       "      <td>0.245188</td>\n",
       "      <td>-0.224931</td>\n",
       "      <td>-0.089013</td>\n",
       "      <td>0.536890</td>\n",
       "      <td>-0.035214</td>\n",
       "      <td>-0.536814</td>\n",
       "      <td>0.420524</td>\n",
       "      <td>-0.065827</td>\n",
       "      <td>-0.075283</td>\n",
       "      <td>-0.309080</td>\n",
       "      <td>0.076486</td>\n",
       "      <td>-0.121696</td>\n",
       "      <td>0.025964</td>\n",
       "    </tr>\n",
       "    <tr>\n",
       "      <th>2</th>\n",
       "      <td>0.002051</td>\n",
       "      <td>-0.316069</td>\n",
       "      <td>-0.626224</td>\n",
       "      <td>-0.214176</td>\n",
       "      <td>0.143025</td>\n",
       "      <td>-0.154475</td>\n",
       "      <td>-0.149171</td>\n",
       "      <td>0.170260</td>\n",
       "      <td>-0.307694</td>\n",
       "      <td>-0.027125</td>\n",
       "      <td>-0.498691</td>\n",
       "      <td>0.049622</td>\n",
       "      <td>-0.141218</td>\n",
       "    </tr>\n",
       "    <tr>\n",
       "      <th>3</th>\n",
       "      <td>0.239320</td>\n",
       "      <td>0.010591</td>\n",
       "      <td>-0.612080</td>\n",
       "      <td>0.060859</td>\n",
       "      <td>-0.066103</td>\n",
       "      <td>0.100825</td>\n",
       "      <td>-0.286969</td>\n",
       "      <td>-0.427970</td>\n",
       "      <td>0.200449</td>\n",
       "      <td>0.052799</td>\n",
       "      <td>0.479314</td>\n",
       "      <td>0.055743</td>\n",
       "      <td>0.091683</td>\n",
       "    </tr>\n",
       "    <tr>\n",
       "      <th>4</th>\n",
       "      <td>-0.141992</td>\n",
       "      <td>-0.299634</td>\n",
       "      <td>-0.130757</td>\n",
       "      <td>-0.351797</td>\n",
       "      <td>-0.727049</td>\n",
       "      <td>-0.038144</td>\n",
       "      <td>0.322883</td>\n",
       "      <td>0.156361</td>\n",
       "      <td>0.271403</td>\n",
       "      <td>0.067870</td>\n",
       "      <td>0.071289</td>\n",
       "      <td>-0.062220</td>\n",
       "      <td>0.056774</td>\n",
       "    </tr>\n",
       "    <tr>\n",
       "      <th>5</th>\n",
       "      <td>-0.394661</td>\n",
       "      <td>-0.065040</td>\n",
       "      <td>-0.146179</td>\n",
       "      <td>0.198068</td>\n",
       "      <td>0.149318</td>\n",
       "      <td>0.084122</td>\n",
       "      <td>-0.027925</td>\n",
       "      <td>0.405934</td>\n",
       "      <td>0.286035</td>\n",
       "      <td>-0.320131</td>\n",
       "      <td>0.304341</td>\n",
       "      <td>0.303882</td>\n",
       "      <td>-0.463908</td>\n",
       "    </tr>\n",
       "    <tr>\n",
       "      <th>6</th>\n",
       "      <td>-0.422934</td>\n",
       "      <td>0.003360</td>\n",
       "      <td>-0.150682</td>\n",
       "      <td>0.152295</td>\n",
       "      <td>0.109026</td>\n",
       "      <td>0.018920</td>\n",
       "      <td>-0.060685</td>\n",
       "      <td>0.187245</td>\n",
       "      <td>0.049578</td>\n",
       "      <td>-0.163151</td>\n",
       "      <td>-0.025694</td>\n",
       "      <td>0.042899</td>\n",
       "      <td>0.832257</td>\n",
       "    </tr>\n",
       "    <tr>\n",
       "      <th>7</th>\n",
       "      <td>0.298533</td>\n",
       "      <td>-0.028779</td>\n",
       "      <td>-0.170368</td>\n",
       "      <td>-0.203301</td>\n",
       "      <td>0.500703</td>\n",
       "      <td>0.258594</td>\n",
       "      <td>0.595447</td>\n",
       "      <td>0.233285</td>\n",
       "      <td>0.195501</td>\n",
       "      <td>0.215535</td>\n",
       "      <td>0.116896</td>\n",
       "      <td>-0.042352</td>\n",
       "      <td>0.114040</td>\n",
       "    </tr>\n",
       "    <tr>\n",
       "      <th>8</th>\n",
       "      <td>-0.313429</td>\n",
       "      <td>-0.039302</td>\n",
       "      <td>-0.149454</td>\n",
       "      <td>0.399057</td>\n",
       "      <td>-0.136860</td>\n",
       "      <td>0.533795</td>\n",
       "      <td>0.372139</td>\n",
       "      <td>-0.368227</td>\n",
       "      <td>-0.209145</td>\n",
       "      <td>0.134184</td>\n",
       "      <td>-0.237363</td>\n",
       "      <td>0.095553</td>\n",
       "      <td>-0.116917</td>\n",
       "    </tr>\n",
       "    <tr>\n",
       "      <th>9</th>\n",
       "      <td>0.088617</td>\n",
       "      <td>-0.529996</td>\n",
       "      <td>0.137306</td>\n",
       "      <td>0.065926</td>\n",
       "      <td>0.076437</td>\n",
       "      <td>0.418644</td>\n",
       "      <td>-0.227712</td>\n",
       "      <td>0.033797</td>\n",
       "      <td>0.056218</td>\n",
       "      <td>-0.290775</td>\n",
       "      <td>0.031839</td>\n",
       "      <td>-0.604222</td>\n",
       "      <td>-0.011993</td>\n",
       "    </tr>\n",
       "    <tr>\n",
       "      <th>10</th>\n",
       "      <td>-0.296715</td>\n",
       "      <td>0.279235</td>\n",
       "      <td>-0.085222</td>\n",
       "      <td>-0.427771</td>\n",
       "      <td>0.173615</td>\n",
       "      <td>-0.105983</td>\n",
       "      <td>0.232076</td>\n",
       "      <td>-0.436624</td>\n",
       "      <td>0.085828</td>\n",
       "      <td>-0.522399</td>\n",
       "      <td>-0.048212</td>\n",
       "      <td>-0.259214</td>\n",
       "      <td>-0.089889</td>\n",
       "    </tr>\n",
       "    <tr>\n",
       "      <th>11</th>\n",
       "      <td>-0.376167</td>\n",
       "      <td>0.164496</td>\n",
       "      <td>-0.166005</td>\n",
       "      <td>0.184121</td>\n",
       "      <td>0.101161</td>\n",
       "      <td>-0.265851</td>\n",
       "      <td>-0.044764</td>\n",
       "      <td>0.078108</td>\n",
       "      <td>0.137227</td>\n",
       "      <td>0.523706</td>\n",
       "      <td>0.046423</td>\n",
       "      <td>-0.600959</td>\n",
       "      <td>-0.156718</td>\n",
       "    </tr>\n",
       "    <tr>\n",
       "      <th>12</th>\n",
       "      <td>-0.286752</td>\n",
       "      <td>-0.364903</td>\n",
       "      <td>0.126746</td>\n",
       "      <td>-0.232071</td>\n",
       "      <td>0.157869</td>\n",
       "      <td>-0.119726</td>\n",
       "      <td>0.076805</td>\n",
       "      <td>-0.120023</td>\n",
       "      <td>-0.575786</td>\n",
       "      <td>0.162116</td>\n",
       "      <td>0.539270</td>\n",
       "      <td>0.079402</td>\n",
       "      <td>0.014447</td>\n",
       "    </tr>\n",
       "  </tbody>\n",
       "</table>\n",
       "</div>"
      ],
      "text/plain": [
       "          0         1         2         3         4         5         6   \\\n",
       "0  -0.144329 -0.483652  0.207383 -0.017856  0.265664 -0.213539 -0.056396   \n",
       "1   0.245188 -0.224931 -0.089013  0.536890 -0.035214 -0.536814  0.420524   \n",
       "2   0.002051 -0.316069 -0.626224 -0.214176  0.143025 -0.154475 -0.149171   \n",
       "3   0.239320  0.010591 -0.612080  0.060859 -0.066103  0.100825 -0.286969   \n",
       "4  -0.141992 -0.299634 -0.130757 -0.351797 -0.727049 -0.038144  0.322883   \n",
       "5  -0.394661 -0.065040 -0.146179  0.198068  0.149318  0.084122 -0.027925   \n",
       "6  -0.422934  0.003360 -0.150682  0.152295  0.109026  0.018920 -0.060685   \n",
       "7   0.298533 -0.028779 -0.170368 -0.203301  0.500703  0.258594  0.595447   \n",
       "8  -0.313429 -0.039302 -0.149454  0.399057 -0.136860  0.533795  0.372139   \n",
       "9   0.088617 -0.529996  0.137306  0.065926  0.076437  0.418644 -0.227712   \n",
       "10 -0.296715  0.279235 -0.085222 -0.427771  0.173615 -0.105983  0.232076   \n",
       "11 -0.376167  0.164496 -0.166005  0.184121  0.101161 -0.265851 -0.044764   \n",
       "12 -0.286752 -0.364903  0.126746 -0.232071  0.157869 -0.119726  0.076805   \n",
       "\n",
       "          7         8         9         10        11        12  \n",
       "0  -0.396139  0.508619  0.211605 -0.225917  0.266286  0.014970  \n",
       "1  -0.065827 -0.075283 -0.309080  0.076486 -0.121696  0.025964  \n",
       "2   0.170260 -0.307694 -0.027125 -0.498691  0.049622 -0.141218  \n",
       "3  -0.427970  0.200449  0.052799  0.479314  0.055743  0.091683  \n",
       "4   0.156361  0.271403  0.067870  0.071289 -0.062220  0.056774  \n",
       "5   0.405934  0.286035 -0.320131  0.304341  0.303882 -0.463908  \n",
       "6   0.187245  0.049578 -0.163151 -0.025694  0.042899  0.832257  \n",
       "7   0.233285  0.195501  0.215535  0.116896 -0.042352  0.114040  \n",
       "8  -0.368227 -0.209145  0.134184 -0.237363  0.095553 -0.116917  \n",
       "9   0.033797  0.056218 -0.290775  0.031839 -0.604222 -0.011993  \n",
       "10 -0.436624  0.085828 -0.522399 -0.048212 -0.259214 -0.089889  \n",
       "11  0.078108  0.137227  0.523706  0.046423 -0.600959 -0.156718  \n",
       "12 -0.120023 -0.575786  0.162116  0.539270  0.079402  0.014447  "
      ]
     },
     "execution_count": 44,
     "metadata": {},
     "output_type": "execute_result"
    }
   ],
   "source": [
    "pd.DataFrame(w)"
   ]
  },
  {
   "cell_type": "markdown",
   "metadata": {},
   "source": [
    "### Visualization (2 points)"
   ]
  },
  {
   "cell_type": "markdown",
   "metadata": {},
   "source": [
    "Visualize the points after applying custom dimension reduction with 2 components."
   ]
  },
  {
   "cell_type": "code",
   "execution_count": 45,
   "metadata": {},
   "outputs": [
    {
     "data": {
      "text/plain": [
       "Text(0.5, 1.0, 'X0 - Eigenvalues')"
      ]
     },
     "execution_count": 45,
     "metadata": {},
     "output_type": "execute_result"
    },
    {
     "data": {
      "image/png": "[encoded data removed]",
      "text/plain": [
       "<Figure size 432x288 with 1 Axes>"
      ]
     },
     "metadata": {},
     "output_type": "display_data"
    }
   ],
   "source": [
    "plt.bar([i for i in range(S.shape[0])], x0)\n",
    "plt.title(\"X0 - Eigenvalues\")\n"
   ]
  },
  {
   "cell_type": "code",
   "execution_count": 46,
   "metadata": {},
   "outputs": [
    {
     "data": {
      "text/plain": [
       "Text(0.5, 1.0, 'X1 - Eigenvalues')"
      ]
     },
     "execution_count": 46,
     "metadata": {},
     "output_type": "execute_result"
    },
    {
     "data": {
      "image/png": "[encoded data removed]",
      "text/plain": [
       "<Figure size 432x288 with 1 Axes>"
      ]
     },
     "metadata": {},
     "output_type": "display_data"
    }
   ],
   "source": [
    "plt.bar([i for i in range(S.shape[0])], x1)\n",
    "plt.title(\"X1 - Eigenvalues\")\n"
   ]
  },
  {
   "cell_type": "code",
   "execution_count": 47,
   "metadata": {},
   "outputs": [
    {
     "data": {
      "text/plain": [
       "(178, 13)"
      ]
     },
     "execution_count": 47,
     "metadata": {},
     "output_type": "execute_result"
    }
   ],
   "source": [
    "wine_data.values.shape"
   ]
  },
  {
   "cell_type": "code",
   "execution_count": 48,
   "metadata": {},
   "outputs": [],
   "source": [
    "x_range = [i for i in range(0, len(X))]"
   ]
  },
  {
   "cell_type": "code",
   "execution_count": 49,
   "metadata": {},
   "outputs": [
    {
     "data": {
      "text/plain": [
       "Text(0.5, 1.0, 'Custom PCA result on the Scaled Data')"
      ]
     },
     "execution_count": 49,
     "metadata": {},
     "output_type": "execute_result"
    },
    {
     "data": {
      "image/png": "[encoded data removed]",
      "text/plain": [
       "<Figure size 432x288 with 1 Axes>"
      ]
     },
     "metadata": {},
     "output_type": "display_data"
    }
   ],
   "source": [
    "X0 = np.dot(X, x0)\n",
    "X1 = np.dot(X, x1)\n",
    "\n",
    "plt.scatter(x_range, X0, color='blue', label=f'class X0', alpha=0.5)\n",
    "plt.scatter(x_range, X1, color='green', label=f'class X1', alpha=0.5)\n",
    "plt.title('Custom PCA result on the Scaled Data')"
   ]
  },
  {
   "cell_type": "code",
   "execution_count": 50,
   "metadata": {},
   "outputs": [
    {
     "data": {
      "text/plain": [
       "Text(0.5, 1.0, 'Custom PCA result on the Original Data')"
      ]
     },
     "execution_count": 50,
     "metadata": {},
     "output_type": "execute_result"
    },
    {
     "data": {
      "image/png": "[encoded data removed]",
      "text/plain": [
       "<Figure size 432x288 with 1 Axes>"
      ]
     },
     "metadata": {},
     "output_type": "display_data"
    }
   ],
   "source": [
    "X0 = np.dot(wine_data.values, x0)\n",
    "X1 = np.dot(wine_data.values, x1)\n",
    "\n",
    "plt.scatter(x_range, X0, color='blue', label=f'class X0', alpha=0.5)\n",
    "plt.scatter(x_range, X1, color='green', label=f'class X1', alpha=0.5)\n",
    "plt.title('Custom PCA result on the Original Data')"
   ]
  },
  {
   "cell_type": "markdown",
   "metadata": {},
   "source": [
    "## Exercise 5 - Boruta (3 points)\n",
    "\n",
    "Let us classify handwritten digits 0, 1 and 2. \n",
    "To make task not so easy the images are binarized (no shadows of gray present) as it happens with xerocopied documents.\n",
    "\n",
    "Let us also find out to which parts of an image there's no need to look in order to clasify three digits of interest."
   ]
  },
  {
   "cell_type": "code",
   "execution_count": 51,
   "metadata": {},
   "outputs": [],
   "source": [
    "X, y = load_digits(n_class=3, return_X_y=True, as_frame=True)\n",
    "X = (X>10).astype(int)"
   ]
  },
  {
   "cell_type": "code",
   "execution_count": 52,
   "metadata": {},
   "outputs": [
    {
     "data": {
      "image/png": "[encoded data removed]",
      "text/plain": [
       "<Figure size 720x288 with 3 Axes>"
      ]
     },
     "metadata": {},
     "output_type": "display_data"
    }
   ],
   "source": [
    "f, ax = plt.subplots(1,3,figsize=(10,4))\n",
    "for i in range(3):\n",
    "    ax[i].imshow(X.iloc[i].values.reshape(8,8))\n",
    "    ax[i].set_title(f\"This is digit {y[i]}.\")\n",
    "plt.suptitle(\"First three images.\")\n",
    "plt.show()"
   ]
  },
  {
   "cell_type": "markdown",
   "metadata": {},
   "source": [
    "Split data into train and test, let test size be 30% of the dataset and fix random state to 42:"
   ]
  },
  {
   "cell_type": "code",
   "execution_count": 53,
   "metadata": {},
   "outputs": [],
   "source": [
    "X_train, X_val, y_train, y_val = train_test_split(X, y, test_size=0.3, random_state=42)## your code here"
   ]
  },
  {
   "cell_type": "code",
   "execution_count": 54,
   "metadata": {},
   "outputs": [],
   "source": [
    "assert y_val.shape[0] == 162\n",
    "assert y_val.sum() == 169"
   ]
  },
  {
   "cell_type": "markdown",
   "metadata": {},
   "source": [
    "Fit a RandomForestClassifier with max_depth=13 and evaluate it's performance:"
   ]
  },
  {
   "cell_type": "code",
   "execution_count": 55,
   "metadata": {},
   "outputs": [
    {
     "name": "stdout",
     "output_type": "stream",
     "text": [
      "0.9938271604938271\n"
     ]
    }
   ],
   "source": [
    "clf = RandomForestClassifier(max_depth=13)\n",
    "\n",
    "# your code here\n",
    "clf.fit(X_train, y_train)\n",
    "\n",
    "acc = accuracy_score(y_pred=clf.predict(X_val), y_true=y_val) # your code here\n",
    "print(acc)"
   ]
  },
  {
   "cell_type": "code",
   "execution_count": 56,
   "metadata": {},
   "outputs": [],
   "source": [
    "assert acc > 0.98"
   ]
  },
  {
   "cell_type": "markdown",
   "metadata": {},
   "source": [
    "Now we will use Boruta to find redundand pixels. If the package is not installed in your system, uncomment and run the following cell."
   ]
  },
  {
   "cell_type": "code",
   "execution_count": 57,
   "metadata": {},
   "outputs": [],
   "source": [
    "# ! pip install boruta"
   ]
  },
  {
   "cell_type": "code",
   "execution_count": 58,
   "metadata": {},
   "outputs": [
    {
     "data": {
      "text/plain": [
       "BorutaPy(estimator=RandomForestClassifier(max_depth=13, n_estimators=62,\n",
       "                                          random_state=RandomState(MT19937) at 0x21C75A81340),\n",
       "         n_estimators='auto',\n",
       "         random_state=RandomState(MT19937) at 0x21C75A81340)"
      ]
     },
     "execution_count": 58,
     "metadata": {},
     "output_type": "execute_result"
    }
   ],
   "source": [
    "from boruta import BorutaPy\n",
    "\n",
    "feat_selector = BorutaPy(RandomForestClassifier(max_depth=13), \n",
    "                         n_estimators='auto', \n",
    "                         verbose=0, \n",
    "                         max_iter=100,\n",
    "                         random_state=42)\n",
    "\n",
    "# your code here: do run the boruta\n",
    "feat_selector.fit(X_train.values, y_train.values)"
   ]
  },
  {
   "cell_type": "markdown",
   "metadata": {},
   "source": [
    "Let us print redundant pixels as a mask. Does the result looks similar to mine (or to Among us chracters)? "
   ]
  },
  {
   "cell_type": "code",
   "execution_count": 59,
   "metadata": {},
   "outputs": [
    {
     "data": {
      "image/png": "[encoded data removed]",
      "text/plain": [
       "<Figure size 432x288 with 1 Axes>"
      ]
     },
     "metadata": {},
     "output_type": "display_data"
    }
   ],
   "source": [
    "mask = np.array(feat_selector.support_).reshape(8,8)\n",
    "plt.imshow(mask);"
   ]
  },
  {
   "cell_type": "markdown",
   "metadata": {},
   "source": [
    "At the end let us redo  classification but only with selected features"
   ]
  },
  {
   "cell_type": "code",
   "execution_count": 60,
   "metadata": {},
   "outputs": [
    {
     "name": "stdout",
     "output_type": "stream",
     "text": [
      "0.9938271604938271\n"
     ]
    }
   ],
   "source": [
    "clf = RandomForestClassifier(max_depth=13)\n",
    "\n",
    "# your code here\n",
    "clf.fit(X_train, y_train)\n",
    "\n",
    "acc = accuracy_score(y_pred=clf.predict(X_val), y_true=y_val) # your code here\n",
    "print(acc)"
   ]
  },
  {
   "cell_type": "code",
   "execution_count": 61,
   "metadata": {},
   "outputs": [],
   "source": [
    "assert acc > 0.99"
   ]
  },
  {
   "cell_type": "markdown",
   "metadata": {},
   "source": [
    "# Materials & References"
   ]
  },
  {
   "cell_type": "markdown",
   "metadata": {},
   "source": [
    "1. General article about feature engineering and selection (main reference):\n",
    "https://github.com/Yorko/mlcourse.ai/blob/master/jupyter_english/topic06_features_regression/topic6_feature_engineering_feature_selection.ipynb\n",
    "\n",
    "2. Feature engineering/preprocessing, using scikit-learn API (great code examples, but really brief explanation):    \n",
    "https://scikit-learn.org/stable/modules/preprocessing\n",
    "\n",
    "3. Feature scaling/normalization:     \n",
    "https://towardsdatascience.com/all-about-feature-scaling-bcc0ad75cb35\n",
    "\n",
    "4. Log Transform/power transform:    \n",
    "https://medium.com/@kyawsawhtoon/log-transformation-purpose-and-interpretation-9444b4b049c9\n",
    "\n",
    "6. Missing values preprocessing using scikit-learn API (great code examples, great explanation):    \n",
    "https://scikit-learn.org/stable/modules/impute.html\n",
    "\n",
    "7. Feature selection scikit-learn API (great code examples, great explanation):   \n",
    "https://scikit-learn.org/stable/modules/feature_selection.html\n",
    "\n",
    "8. Melbourne housing dataset source:    \n",
    "https://www.kaggle.com/anthonypino/melbourne-housing-market"
   ]
  }
 ],
 "metadata": {
  "kernelspec": {
   "display_name": "Python 3 (ipykernel)",
   "language": "python",
   "name": "python3"
  },
  "language_info": {
   "codemirror_mode": {
    "name": "ipython",
    "version": 3
   },
   "file_extension": ".py",
   "mimetype": "text/x-python",
   "name": "python",
   "nbconvert_exporter": "python",
   "pygments_lexer": "ipython3",
   "version": "3.9.7"
  },
  "toc": {
   "base_numbering": "1",
   "nav_menu": {},
   "number_sections": true,
   "sideBar": true,
   "skip_h1_title": false,
   "title_cell": "Table of Contents",
   "title_sidebar": "Contents",
   "toc_cell": false,
   "toc_position": {
    "height": "calc(100% - 180px)",
    "left": "10px",
    "top": "150px",
    "width": "165px"
   },
   "toc_section_display": true,
   "toc_window_display": true
  }
 },
 "nbformat": 4,
 "nbformat_minor": 4
}
